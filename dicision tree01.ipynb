import cv2

def divide_image(img, n):
    """
    Divide an image into n smaller sub-images using a division tree.
    """
    if n == 1:
        return [img]
    else:
        # Get the dimensions of the image
        height, width, channels = img.shape
        
        # Calculate the size of each sub-image
        sub_height = height // n
        sub_width = width // n
        
        # Build the division tree recursively
        tree = []
        for i in range(n):
            for j in range(n):
                # Calculate the coordinates of the sub-image
                x = i * sub_width
                y = j * sub_height
                sub_image = img[y:y+sub_height, x:x+sub_width]
                # Divide the sub-image further
                sub_tree = divide_image(sub_image, n-1)
                tree.append(sub_tree)
        
        return tree